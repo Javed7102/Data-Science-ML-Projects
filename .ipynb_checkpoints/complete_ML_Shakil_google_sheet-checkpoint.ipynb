{
 "cells": [
  {
   "cell_type": "markdown",
   "id": "c0c5a027-e3f2-47f1-9db3-020497e797c5",
   "metadata": {},
   "source": [
    "1. go to google developer console\n",
    "2. create a new project (test1)\n",
    "3. go to test1 and enable the necessary APIs. From the search bar search for 'drive api'. go there and click enable\n",
    "4. then search for 'google sheet api'. go there and enable\n",
    "5. then click credentials and create credential by creating a service account and give it a name (test11). copy the email showing under service account ID box. then click create and continue\n",
    "6. then click done\n",
    "7. click on 'manage service account'\n",
    "8. then click the 3 dots under the 'actions' column and click 'manage keys'\n",
    "9. click 'add key' then click 'new key'. click JSON option button then click create. Joson key gets downloaded on your laptop\n",
    "10. I will have to share (with viewer option) the email address, which I copied earlier, with my google sheet\n",
    "11. now to work with google sheet we will need pandas and gspread libraries\n",
    "12. if you don't have gspread, run '!pip install gspread' from cmd line or from jupyter notebook\n",
    "13. now import pandas and gspred and assign the file path which is in the downloaded json file. we need to copy paste the file path"
   ]
  },
  {
   "cell_type": "code",
   "execution_count": 1,
   "id": "e7126301-7536-413b-aacc-a12f8c7cd81f",
   "metadata": {},
   "outputs": [],
   "source": [
    "import pandas as pd"
   ]
  },
  {
   "cell_type": "code",
   "execution_count": 2,
   "id": "0bf5a09c-b66b-44d2-9a93-482b4e45ddff",
   "metadata": {},
   "outputs": [],
   "source": [
    "import gspread"
   ]
  },
  {
   "cell_type": "code",
   "execution_count": 4,
   "id": "182e5a4f-e50c-4367-8183-65b7c87fa752",
   "metadata": {},
   "outputs": [],
   "source": [
    "# don't miss the double \\\\ in the file path for the downloaded json file\n",
    "gc = gspread.service_account(filename='C:\\\\Users\\\\islam\\\\Downloads\\\\test1-432717-987005567d28.json')"
   ]
  },
  {
   "cell_type": "code",
   "execution_count": 5,
   "id": "a3bd8d97-9996-4545-b5d2-762a308f37e6",
   "metadata": {},
   "outputs": [],
   "source": [
    "# connect google sheet. locate the path and paste it inside the open_by_url('sheet path')\n",
    "\n",
    "sheet = gc.open_by_url('https://docs.google.com/spreadsheets/d/1XdPwIhlb3b2uXNMJqrvnmSim8gwuSAnGosBSHp7WBbw/edit?usp=sharing')\n"
   ]
  },
  {
   "cell_type": "code",
   "execution_count": 7,
   "id": "ff8fd15f-d10a-4a51-a2cc-646cb6d67368",
   "metadata": {},
   "outputs": [],
   "source": [
    "# now want to open a specific worksheet of that file\n",
    "\n",
    "ws = sheet.worksheet('emp1')"
   ]
  },
  {
   "cell_type": "code",
   "execution_count": 10,
   "id": "c50548fb-fd3b-48ec-9c36-88249259b3c6",
   "metadata": {},
   "outputs": [
    {
     "data": {
      "text/html": [
       "<div>\n",
       "<style scoped>\n",
       "    .dataframe tbody tr th:only-of-type {\n",
       "        vertical-align: middle;\n",
       "    }\n",
       "\n",
       "    .dataframe tbody tr th {\n",
       "        vertical-align: top;\n",
       "    }\n",
       "\n",
       "    .dataframe thead th {\n",
       "        text-align: right;\n",
       "    }\n",
       "</style>\n",
       "<table border=\"1\" class=\"dataframe\">\n",
       "  <thead>\n",
       "    <tr style=\"text-align: right;\">\n",
       "      <th></th>\n",
       "      <th>name</th>\n",
       "      <th>age</th>\n",
       "    </tr>\n",
       "  </thead>\n",
       "  <tbody>\n",
       "    <tr>\n",
       "      <th>0</th>\n",
       "      <td>Javed</td>\n",
       "      <td>60</td>\n",
       "    </tr>\n",
       "    <tr>\n",
       "      <th>1</th>\n",
       "      <td>Zena</td>\n",
       "      <td>55</td>\n",
       "    </tr>\n",
       "    <tr>\n",
       "      <th>2</th>\n",
       "      <td>Adriad</td>\n",
       "      <td>32</td>\n",
       "    </tr>\n",
       "    <tr>\n",
       "      <th>3</th>\n",
       "      <td>Rebecca</td>\n",
       "      <td>26</td>\n",
       "    </tr>\n",
       "    <tr>\n",
       "      <th>4</th>\n",
       "      <td>Suraiya</td>\n",
       "      <td>23</td>\n",
       "    </tr>\n",
       "  </tbody>\n",
       "</table>\n",
       "</div>"
      ],
      "text/plain": [
       "      name  age\n",
       "0    Javed   60\n",
       "1     Zena   55\n",
       "2   Adriad   32\n",
       "3  Rebecca   26\n",
       "4  Suraiya   23"
      ]
     },
     "execution_count": 10,
     "metadata": {},
     "output_type": "execute_result"
    }
   ],
   "source": [
    "df = pd.DataFrame(ws.get_all_records())\n",
    "df"
   ]
  },
  {
   "cell_type": "code",
   "execution_count": 11,
   "id": "9f1241e9-17fd-40ef-b8ed-459060d681d7",
   "metadata": {},
   "outputs": [],
   "source": [
    "ws2 = sheet.worksheet('emp2')"
   ]
  },
  {
   "cell_type": "code",
   "execution_count": 12,
   "id": "1697fe88-a886-454d-976d-2eba6a2040a2",
   "metadata": {},
   "outputs": [
    {
     "data": {
      "text/html": [
       "<div>\n",
       "<style scoped>\n",
       "    .dataframe tbody tr th:only-of-type {\n",
       "        vertical-align: middle;\n",
       "    }\n",
       "\n",
       "    .dataframe tbody tr th {\n",
       "        vertical-align: top;\n",
       "    }\n",
       "\n",
       "    .dataframe thead th {\n",
       "        text-align: right;\n",
       "    }\n",
       "</style>\n",
       "<table border=\"1\" class=\"dataframe\">\n",
       "  <thead>\n",
       "    <tr style=\"text-align: right;\">\n",
       "      <th></th>\n",
       "      <th>Name</th>\n",
       "      <th>age</th>\n",
       "    </tr>\n",
       "  </thead>\n",
       "  <tbody>\n",
       "    <tr>\n",
       "      <th>0</th>\n",
       "      <td>Tom</td>\n",
       "      <td>30</td>\n",
       "    </tr>\n",
       "    <tr>\n",
       "      <th>1</th>\n",
       "      <td>Paul</td>\n",
       "      <td>45</td>\n",
       "    </tr>\n",
       "    <tr>\n",
       "      <th>2</th>\n",
       "      <td>Mark</td>\n",
       "      <td>64</td>\n",
       "    </tr>\n",
       "    <tr>\n",
       "      <th>3</th>\n",
       "      <td>Jack</td>\n",
       "      <td>50</td>\n",
       "    </tr>\n",
       "    <tr>\n",
       "      <th>4</th>\n",
       "      <td>Richard</td>\n",
       "      <td>68</td>\n",
       "    </tr>\n",
       "  </tbody>\n",
       "</table>\n",
       "</div>"
      ],
      "text/plain": [
       "      Name  age\n",
       "0      Tom   30\n",
       "1     Paul   45\n",
       "2     Mark   64\n",
       "3     Jack   50\n",
       "4  Richard   68"
      ]
     },
     "execution_count": 12,
     "metadata": {},
     "output_type": "execute_result"
    }
   ],
   "source": [
    "df = pd.DataFrame(ws2.get_all_records())\n",
    "df"
   ]
  },
  {
   "cell_type": "code",
   "execution_count": null,
   "id": "b5ad3733-a7c6-4c6b-b3eb-21ef953f3ccb",
   "metadata": {},
   "outputs": [],
   "source": []
  }
 ],
 "metadata": {
  "kernelspec": {
   "display_name": "Python 3 (ipykernel)",
   "language": "python",
   "name": "python3"
  },
  "language_info": {
   "codemirror_mode": {
    "name": "ipython",
    "version": 3
   },
   "file_extension": ".py",
   "mimetype": "text/x-python",
   "name": "python",
   "nbconvert_exporter": "python",
   "pygments_lexer": "ipython3",
   "version": "3.12.2"
  }
 },
 "nbformat": 4,
 "nbformat_minor": 5
}
